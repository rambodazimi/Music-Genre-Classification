{
 "cells": [
  {
   "cell_type": "markdown",
   "metadata": {},
   "source": [
    "#### This file is used for elucidating the dataset, its contents and structure\n",
    "##### Author: Rambod Azimi"
   ]
  },
  {
   "cell_type": "markdown",
   "metadata": {},
   "source": [
    "Dataset Used: GTZAN Dataset - Music Genre Classification (MGC)\n",
    "\n",
    "Dataset Link: https://www.kaggle.com/datasets/andradaolteanu/gtzan-dataset-music-genre-classification/data\n",
    "\n",
    "Content:\n",
    "\n",
    "genres original - A collection of 10 genres with 100 audio files each, all having a length of 30 seconds --> Total of 1000 songs, 500 hours\n",
    "\n",
    "images original - A visual representation for each audio file --> The audio files were converted to Mel Spectrograms\n",
    "\n",
    "2 CSV files - Containing features of the audio files. One file has for each song (30 seconds long) a mean and variance computed over multiple features that can be extracted from an audio file. The other file has the same structure, but the songs were split before into 3 seconds audio files (this way increasing 10 times the amount of data we fuel into our classification models)."
   ]
  },
  {
   "cell_type": "markdown",
   "metadata": {},
   "source": [
    "### Genres\n",
    "\n",
    "1. Blues\n",
    "\n",
    "2. Classical\n",
    "\n",
    "3. Country\n",
    "\n",
    "4. Disco\n",
    "\n",
    "5. Hip Hop\n",
    "\n",
    "6. Jazz\n",
    "\n",
    "7. Metal\n",
    "\n",
    "8. Pop\n",
    "\n",
    "9. Reggae\n",
    "\n",
    "10. Rock"
   ]
  }
 ],
 "metadata": {
  "language_info": {
   "name": "python"
  }
 },
 "nbformat": 4,
 "nbformat_minor": 2
}
